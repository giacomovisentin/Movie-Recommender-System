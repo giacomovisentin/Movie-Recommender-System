{
  "nbformat": 4,
  "nbformat_minor": 0,
  "metadata": {
    "colab": {
      "provenance": []
    },
    "kernelspec": {
      "name": "python3",
      "display_name": "Python 3"
    },
    "language_info": {
      "name": "python"
    }
  },
  "cells": [
    {
      "cell_type": "code",
      "execution_count": null,
      "metadata": {
        "id": "ktes4Kxcrihw"
      },
      "outputs": [],
      "source": [
        "import numpy as np\n",
        "import pandas as pd\n",
        "import matplotlib.pyplot as plt\n",
        "import tensorflow as tf\n",
        "from keras.layers import Input, Embedding, Flatten, Dense, Concatenate, Dropout\n",
        "from keras.models import Model"
      ]
    },
    {
      "cell_type": "markdown",
      "source": [
        "## **DEEP LEARNING MODEL**"
      ],
      "metadata": {
        "id": "s4v13-sROnUw"
      }
    },
    {
      "cell_type": "markdown",
      "source": [
        "**Data Preprocessing**\n"
      ],
      "metadata": {
        "id": "UL4F56OlOuip"
      }
    },
    {
      "cell_type": "code",
      "source": [
        "# loading ratings data from csv\n",
        "rating = pd.read_csv(\"/content/ratings.csv\", names=[\"userId\",\"movieId\",\"rating\",\"timestamp\"], skiprows=1)\n",
        "rating = rating.drop('timestamp', axis=1)\n",
        "# number of users: 610"
      ],
      "metadata": {
        "id": "GPXvgC7dsVsw"
      },
      "execution_count": null,
      "outputs": []
    },
    {
      "cell_type": "code",
      "source": [
        "movies = pd.read_csv(\"/content/movies.csv\",\n",
        "                      names=[\"movieId\",\"title\",\"genres\"],\n",
        "                      skiprows=1)\n",
        "# number of movies: 9742"
      ],
      "metadata": {
        "id": "hhI0ws0xs-DW"
      },
      "execution_count": null,
      "outputs": []
    },
    {
      "cell_type": "code",
      "source": [
        "data = pd.merge(rating, movies, on='movieId')\n",
        "data\n",
        "# the number of user is unchanged, number of movies is now 9724 becouse not all movies have a review"
      ],
      "metadata": {
        "colab": {
          "base_uri": "https://localhost:8080/",
          "height": 424
        },
        "id": "MaoR-TvbjA2o",
        "outputId": "ffa9813e-d0c1-4c59-e388-f835c88a7791"
      },
      "execution_count": null,
      "outputs": [
        {
          "output_type": "execute_result",
          "data": {
            "text/plain": [
              "        userId  movieId  rating                             title  \\\n",
              "0            1        1     4.0                  Toy Story (1995)   \n",
              "1            5        1     4.0                  Toy Story (1995)   \n",
              "2            7        1     4.5                  Toy Story (1995)   \n",
              "3           15        1     2.5                  Toy Story (1995)   \n",
              "4           17        1     4.5                  Toy Story (1995)   \n",
              "...        ...      ...     ...                               ...   \n",
              "100831     610   160341     2.5                  Bloodmoon (1997)   \n",
              "100832     610   160527     4.5  Sympathy for the Underdog (1971)   \n",
              "100833     610   160836     3.0                     Hazard (2005)   \n",
              "100834     610   163937     3.5                Blair Witch (2016)   \n",
              "100835     610   163981     3.5                         31 (2016)   \n",
              "\n",
              "                                             genres  \n",
              "0       Adventure|Animation|Children|Comedy|Fantasy  \n",
              "1       Adventure|Animation|Children|Comedy|Fantasy  \n",
              "2       Adventure|Animation|Children|Comedy|Fantasy  \n",
              "3       Adventure|Animation|Children|Comedy|Fantasy  \n",
              "4       Adventure|Animation|Children|Comedy|Fantasy  \n",
              "...                                             ...  \n",
              "100831                              Action|Thriller  \n",
              "100832                           Action|Crime|Drama  \n",
              "100833                        Action|Drama|Thriller  \n",
              "100834                              Horror|Thriller  \n",
              "100835                                       Horror  \n",
              "\n",
              "[100836 rows x 5 columns]"
            ],
            "text/html": [
              "\n",
              "  <div id=\"df-7154cf49-b9b9-45dd-8de8-75830a9ef415\" class=\"colab-df-container\">\n",
              "    <div>\n",
              "<style scoped>\n",
              "    .dataframe tbody tr th:only-of-type {\n",
              "        vertical-align: middle;\n",
              "    }\n",
              "\n",
              "    .dataframe tbody tr th {\n",
              "        vertical-align: top;\n",
              "    }\n",
              "\n",
              "    .dataframe thead th {\n",
              "        text-align: right;\n",
              "    }\n",
              "</style>\n",
              "<table border=\"1\" class=\"dataframe\">\n",
              "  <thead>\n",
              "    <tr style=\"text-align: right;\">\n",
              "      <th></th>\n",
              "      <th>userId</th>\n",
              "      <th>movieId</th>\n",
              "      <th>rating</th>\n",
              "      <th>title</th>\n",
              "      <th>genres</th>\n",
              "    </tr>\n",
              "  </thead>\n",
              "  <tbody>\n",
              "    <tr>\n",
              "      <th>0</th>\n",
              "      <td>1</td>\n",
              "      <td>1</td>\n",
              "      <td>4.0</td>\n",
              "      <td>Toy Story (1995)</td>\n",
              "      <td>Adventure|Animation|Children|Comedy|Fantasy</td>\n",
              "    </tr>\n",
              "    <tr>\n",
              "      <th>1</th>\n",
              "      <td>5</td>\n",
              "      <td>1</td>\n",
              "      <td>4.0</td>\n",
              "      <td>Toy Story (1995)</td>\n",
              "      <td>Adventure|Animation|Children|Comedy|Fantasy</td>\n",
              "    </tr>\n",
              "    <tr>\n",
              "      <th>2</th>\n",
              "      <td>7</td>\n",
              "      <td>1</td>\n",
              "      <td>4.5</td>\n",
              "      <td>Toy Story (1995)</td>\n",
              "      <td>Adventure|Animation|Children|Comedy|Fantasy</td>\n",
              "    </tr>\n",
              "    <tr>\n",
              "      <th>3</th>\n",
              "      <td>15</td>\n",
              "      <td>1</td>\n",
              "      <td>2.5</td>\n",
              "      <td>Toy Story (1995)</td>\n",
              "      <td>Adventure|Animation|Children|Comedy|Fantasy</td>\n",
              "    </tr>\n",
              "    <tr>\n",
              "      <th>4</th>\n",
              "      <td>17</td>\n",
              "      <td>1</td>\n",
              "      <td>4.5</td>\n",
              "      <td>Toy Story (1995)</td>\n",
              "      <td>Adventure|Animation|Children|Comedy|Fantasy</td>\n",
              "    </tr>\n",
              "    <tr>\n",
              "      <th>...</th>\n",
              "      <td>...</td>\n",
              "      <td>...</td>\n",
              "      <td>...</td>\n",
              "      <td>...</td>\n",
              "      <td>...</td>\n",
              "    </tr>\n",
              "    <tr>\n",
              "      <th>100831</th>\n",
              "      <td>610</td>\n",
              "      <td>160341</td>\n",
              "      <td>2.5</td>\n",
              "      <td>Bloodmoon (1997)</td>\n",
              "      <td>Action|Thriller</td>\n",
              "    </tr>\n",
              "    <tr>\n",
              "      <th>100832</th>\n",
              "      <td>610</td>\n",
              "      <td>160527</td>\n",
              "      <td>4.5</td>\n",
              "      <td>Sympathy for the Underdog (1971)</td>\n",
              "      <td>Action|Crime|Drama</td>\n",
              "    </tr>\n",
              "    <tr>\n",
              "      <th>100833</th>\n",
              "      <td>610</td>\n",
              "      <td>160836</td>\n",
              "      <td>3.0</td>\n",
              "      <td>Hazard (2005)</td>\n",
              "      <td>Action|Drama|Thriller</td>\n",
              "    </tr>\n",
              "    <tr>\n",
              "      <th>100834</th>\n",
              "      <td>610</td>\n",
              "      <td>163937</td>\n",
              "      <td>3.5</td>\n",
              "      <td>Blair Witch (2016)</td>\n",
              "      <td>Horror|Thriller</td>\n",
              "    </tr>\n",
              "    <tr>\n",
              "      <th>100835</th>\n",
              "      <td>610</td>\n",
              "      <td>163981</td>\n",
              "      <td>3.5</td>\n",
              "      <td>31 (2016)</td>\n",
              "      <td>Horror</td>\n",
              "    </tr>\n",
              "  </tbody>\n",
              "</table>\n",
              "<p>100836 rows × 5 columns</p>\n",
              "</div>\n",
              "    <div class=\"colab-df-buttons\">\n",
              "\n",
              "  <div class=\"colab-df-container\">\n",
              "    <button class=\"colab-df-convert\" onclick=\"convertToInteractive('df-7154cf49-b9b9-45dd-8de8-75830a9ef415')\"\n",
              "            title=\"Convert this dataframe to an interactive table.\"\n",
              "            style=\"display:none;\">\n",
              "\n",
              "  <svg xmlns=\"http://www.w3.org/2000/svg\" height=\"24px\" viewBox=\"0 -960 960 960\">\n",
              "    <path d=\"M120-120v-720h720v720H120Zm60-500h600v-160H180v160Zm220 220h160v-160H400v160Zm0 220h160v-160H400v160ZM180-400h160v-160H180v160Zm440 0h160v-160H620v160ZM180-180h160v-160H180v160Zm440 0h160v-160H620v160Z\"/>\n",
              "  </svg>\n",
              "    </button>\n",
              "\n",
              "  <style>\n",
              "    .colab-df-container {\n",
              "      display:flex;\n",
              "      gap: 12px;\n",
              "    }\n",
              "\n",
              "    .colab-df-convert {\n",
              "      background-color: #E8F0FE;\n",
              "      border: none;\n",
              "      border-radius: 50%;\n",
              "      cursor: pointer;\n",
              "      display: none;\n",
              "      fill: #1967D2;\n",
              "      height: 32px;\n",
              "      padding: 0 0 0 0;\n",
              "      width: 32px;\n",
              "    }\n",
              "\n",
              "    .colab-df-convert:hover {\n",
              "      background-color: #E2EBFA;\n",
              "      box-shadow: 0px 1px 2px rgba(60, 64, 67, 0.3), 0px 1px 3px 1px rgba(60, 64, 67, 0.15);\n",
              "      fill: #174EA6;\n",
              "    }\n",
              "\n",
              "    .colab-df-buttons div {\n",
              "      margin-bottom: 4px;\n",
              "    }\n",
              "\n",
              "    [theme=dark] .colab-df-convert {\n",
              "      background-color: #3B4455;\n",
              "      fill: #D2E3FC;\n",
              "    }\n",
              "\n",
              "    [theme=dark] .colab-df-convert:hover {\n",
              "      background-color: #434B5C;\n",
              "      box-shadow: 0px 1px 3px 1px rgba(0, 0, 0, 0.15);\n",
              "      filter: drop-shadow(0px 1px 2px rgba(0, 0, 0, 0.3));\n",
              "      fill: #FFFFFF;\n",
              "    }\n",
              "  </style>\n",
              "\n",
              "    <script>\n",
              "      const buttonEl =\n",
              "        document.querySelector('#df-7154cf49-b9b9-45dd-8de8-75830a9ef415 button.colab-df-convert');\n",
              "      buttonEl.style.display =\n",
              "        google.colab.kernel.accessAllowed ? 'block' : 'none';\n",
              "\n",
              "      async function convertToInteractive(key) {\n",
              "        const element = document.querySelector('#df-7154cf49-b9b9-45dd-8de8-75830a9ef415');\n",
              "        const dataTable =\n",
              "          await google.colab.kernel.invokeFunction('convertToInteractive',\n",
              "                                                    [key], {});\n",
              "        if (!dataTable) return;\n",
              "\n",
              "        const docLinkHtml = 'Like what you see? Visit the ' +\n",
              "          '<a target=\"_blank\" href=https://colab.research.google.com/notebooks/data_table.ipynb>data table notebook</a>'\n",
              "          + ' to learn more about interactive tables.';\n",
              "        element.innerHTML = '';\n",
              "        dataTable['output_type'] = 'display_data';\n",
              "        await google.colab.output.renderOutput(dataTable, element);\n",
              "        const docLink = document.createElement('div');\n",
              "        docLink.innerHTML = docLinkHtml;\n",
              "        element.appendChild(docLink);\n",
              "      }\n",
              "    </script>\n",
              "  </div>\n",
              "\n",
              "\n",
              "<div id=\"df-701b0db6-7476-4be7-8693-cb9cfb703482\">\n",
              "  <button class=\"colab-df-quickchart\" onclick=\"quickchart('df-701b0db6-7476-4be7-8693-cb9cfb703482')\"\n",
              "            title=\"Suggest charts\"\n",
              "            style=\"display:none;\">\n",
              "\n",
              "<svg xmlns=\"http://www.w3.org/2000/svg\" height=\"24px\"viewBox=\"0 0 24 24\"\n",
              "     width=\"24px\">\n",
              "    <g>\n",
              "        <path d=\"M19 3H5c-1.1 0-2 .9-2 2v14c0 1.1.9 2 2 2h14c1.1 0 2-.9 2-2V5c0-1.1-.9-2-2-2zM9 17H7v-7h2v7zm4 0h-2V7h2v10zm4 0h-2v-4h2v4z\"/>\n",
              "    </g>\n",
              "</svg>\n",
              "  </button>\n",
              "\n",
              "<style>\n",
              "  .colab-df-quickchart {\n",
              "      --bg-color: #E8F0FE;\n",
              "      --fill-color: #1967D2;\n",
              "      --hover-bg-color: #E2EBFA;\n",
              "      --hover-fill-color: #174EA6;\n",
              "      --disabled-fill-color: #AAA;\n",
              "      --disabled-bg-color: #DDD;\n",
              "  }\n",
              "\n",
              "  [theme=dark] .colab-df-quickchart {\n",
              "      --bg-color: #3B4455;\n",
              "      --fill-color: #D2E3FC;\n",
              "      --hover-bg-color: #434B5C;\n",
              "      --hover-fill-color: #FFFFFF;\n",
              "      --disabled-bg-color: #3B4455;\n",
              "      --disabled-fill-color: #666;\n",
              "  }\n",
              "\n",
              "  .colab-df-quickchart {\n",
              "    background-color: var(--bg-color);\n",
              "    border: none;\n",
              "    border-radius: 50%;\n",
              "    cursor: pointer;\n",
              "    display: none;\n",
              "    fill: var(--fill-color);\n",
              "    height: 32px;\n",
              "    padding: 0;\n",
              "    width: 32px;\n",
              "  }\n",
              "\n",
              "  .colab-df-quickchart:hover {\n",
              "    background-color: var(--hover-bg-color);\n",
              "    box-shadow: 0 1px 2px rgba(60, 64, 67, 0.3), 0 1px 3px 1px rgba(60, 64, 67, 0.15);\n",
              "    fill: var(--button-hover-fill-color);\n",
              "  }\n",
              "\n",
              "  .colab-df-quickchart-complete:disabled,\n",
              "  .colab-df-quickchart-complete:disabled:hover {\n",
              "    background-color: var(--disabled-bg-color);\n",
              "    fill: var(--disabled-fill-color);\n",
              "    box-shadow: none;\n",
              "  }\n",
              "\n",
              "  .colab-df-spinner {\n",
              "    border: 2px solid var(--fill-color);\n",
              "    border-color: transparent;\n",
              "    border-bottom-color: var(--fill-color);\n",
              "    animation:\n",
              "      spin 1s steps(1) infinite;\n",
              "  }\n",
              "\n",
              "  @keyframes spin {\n",
              "    0% {\n",
              "      border-color: transparent;\n",
              "      border-bottom-color: var(--fill-color);\n",
              "      border-left-color: var(--fill-color);\n",
              "    }\n",
              "    20% {\n",
              "      border-color: transparent;\n",
              "      border-left-color: var(--fill-color);\n",
              "      border-top-color: var(--fill-color);\n",
              "    }\n",
              "    30% {\n",
              "      border-color: transparent;\n",
              "      border-left-color: var(--fill-color);\n",
              "      border-top-color: var(--fill-color);\n",
              "      border-right-color: var(--fill-color);\n",
              "    }\n",
              "    40% {\n",
              "      border-color: transparent;\n",
              "      border-right-color: var(--fill-color);\n",
              "      border-top-color: var(--fill-color);\n",
              "    }\n",
              "    60% {\n",
              "      border-color: transparent;\n",
              "      border-right-color: var(--fill-color);\n",
              "    }\n",
              "    80% {\n",
              "      border-color: transparent;\n",
              "      border-right-color: var(--fill-color);\n",
              "      border-bottom-color: var(--fill-color);\n",
              "    }\n",
              "    90% {\n",
              "      border-color: transparent;\n",
              "      border-bottom-color: var(--fill-color);\n",
              "    }\n",
              "  }\n",
              "</style>\n",
              "\n",
              "  <script>\n",
              "    async function quickchart(key) {\n",
              "      const quickchartButtonEl =\n",
              "        document.querySelector('#' + key + ' button');\n",
              "      quickchartButtonEl.disabled = true;  // To prevent multiple clicks.\n",
              "      quickchartButtonEl.classList.add('colab-df-spinner');\n",
              "      try {\n",
              "        const charts = await google.colab.kernel.invokeFunction(\n",
              "            'suggestCharts', [key], {});\n",
              "      } catch (error) {\n",
              "        console.error('Error during call to suggestCharts:', error);\n",
              "      }\n",
              "      quickchartButtonEl.classList.remove('colab-df-spinner');\n",
              "      quickchartButtonEl.classList.add('colab-df-quickchart-complete');\n",
              "    }\n",
              "    (() => {\n",
              "      let quickchartButtonEl =\n",
              "        document.querySelector('#df-701b0db6-7476-4be7-8693-cb9cfb703482 button');\n",
              "      quickchartButtonEl.style.display =\n",
              "        google.colab.kernel.accessAllowed ? 'block' : 'none';\n",
              "    })();\n",
              "  </script>\n",
              "</div>\n",
              "\n",
              "  <div id=\"id_d9ed433d-807c-4450-b159-a641d52525b0\">\n",
              "    <style>\n",
              "      .colab-df-generate {\n",
              "        background-color: #E8F0FE;\n",
              "        border: none;\n",
              "        border-radius: 50%;\n",
              "        cursor: pointer;\n",
              "        display: none;\n",
              "        fill: #1967D2;\n",
              "        height: 32px;\n",
              "        padding: 0 0 0 0;\n",
              "        width: 32px;\n",
              "      }\n",
              "\n",
              "      .colab-df-generate:hover {\n",
              "        background-color: #E2EBFA;\n",
              "        box-shadow: 0px 1px 2px rgba(60, 64, 67, 0.3), 0px 1px 3px 1px rgba(60, 64, 67, 0.15);\n",
              "        fill: #174EA6;\n",
              "      }\n",
              "\n",
              "      [theme=dark] .colab-df-generate {\n",
              "        background-color: #3B4455;\n",
              "        fill: #D2E3FC;\n",
              "      }\n",
              "\n",
              "      [theme=dark] .colab-df-generate:hover {\n",
              "        background-color: #434B5C;\n",
              "        box-shadow: 0px 1px 3px 1px rgba(0, 0, 0, 0.15);\n",
              "        filter: drop-shadow(0px 1px 2px rgba(0, 0, 0, 0.3));\n",
              "        fill: #FFFFFF;\n",
              "      }\n",
              "    </style>\n",
              "    <button class=\"colab-df-generate\" onclick=\"generateWithVariable('data')\"\n",
              "            title=\"Generate code using this dataframe.\"\n",
              "            style=\"display:none;\">\n",
              "\n",
              "  <svg xmlns=\"http://www.w3.org/2000/svg\" height=\"24px\"viewBox=\"0 0 24 24\"\n",
              "       width=\"24px\">\n",
              "    <path d=\"M7,19H8.4L18.45,9,17,7.55,7,17.6ZM5,21V16.75L18.45,3.32a2,2,0,0,1,2.83,0l1.4,1.43a1.91,1.91,0,0,1,.58,1.4,1.91,1.91,0,0,1-.58,1.4L9.25,21ZM18.45,9,17,7.55Zm-12,3A5.31,5.31,0,0,0,4.9,8.1,5.31,5.31,0,0,0,1,6.5,5.31,5.31,0,0,0,4.9,4.9,5.31,5.31,0,0,0,6.5,1,5.31,5.31,0,0,0,8.1,4.9,5.31,5.31,0,0,0,12,6.5,5.46,5.46,0,0,0,6.5,12Z\"/>\n",
              "  </svg>\n",
              "    </button>\n",
              "    <script>\n",
              "      (() => {\n",
              "      const buttonEl =\n",
              "        document.querySelector('#id_d9ed433d-807c-4450-b159-a641d52525b0 button.colab-df-generate');\n",
              "      buttonEl.style.display =\n",
              "        google.colab.kernel.accessAllowed ? 'block' : 'none';\n",
              "\n",
              "      buttonEl.onclick = () => {\n",
              "        google.colab.notebook.generateWithVariable('data');\n",
              "      }\n",
              "      })();\n",
              "    </script>\n",
              "  </div>\n",
              "\n",
              "    </div>\n",
              "  </div>\n"
            ],
            "application/vnd.google.colaboratory.intrinsic+json": {
              "type": "dataframe",
              "variable_name": "data"
            }
          },
          "metadata": {},
          "execution_count": 19
        }
      ]
    },
    {
      "cell_type": "code",
      "source": [
        "from sklearn.preprocessing import LabelEncoder\n",
        "user_encoder = LabelEncoder()\n",
        "movie_encoder = LabelEncoder()\n",
        "\n",
        "data['user'] = user_encoder.fit_transform(data['userId'])\n",
        "data['movie'] = pd.Categorical(data['movieId']).codes"
      ],
      "metadata": {
        "id": "xFVRBnEQ0fLl"
      },
      "execution_count": null,
      "outputs": []
    },
    {
      "cell_type": "code",
      "source": [
        "data.head() #visualization of the first 5 row od data"
      ],
      "metadata": {
        "colab": {
          "base_uri": "https://localhost:8080/",
          "height": 206
        },
        "id": "m6WSC1erGOFL",
        "outputId": "77dacb89-4c57-4291-f386-4b2aea6ed804"
      },
      "execution_count": null,
      "outputs": [
        {
          "output_type": "execute_result",
          "data": {
            "text/plain": [
              "   userId  movieId  rating             title  \\\n",
              "0       1        1     4.0  Toy Story (1995)   \n",
              "1       5        1     4.0  Toy Story (1995)   \n",
              "2       7        1     4.5  Toy Story (1995)   \n",
              "3      15        1     2.5  Toy Story (1995)   \n",
              "4      17        1     4.5  Toy Story (1995)   \n",
              "\n",
              "                                        genres  user  movie  \n",
              "0  Adventure|Animation|Children|Comedy|Fantasy     0      0  \n",
              "1  Adventure|Animation|Children|Comedy|Fantasy     4      0  \n",
              "2  Adventure|Animation|Children|Comedy|Fantasy     6      0  \n",
              "3  Adventure|Animation|Children|Comedy|Fantasy    14      0  \n",
              "4  Adventure|Animation|Children|Comedy|Fantasy    16      0  "
            ],
            "text/html": [
              "\n",
              "  <div id=\"df-2853082c-7359-4fd4-b7c8-5f3a538ee315\" class=\"colab-df-container\">\n",
              "    <div>\n",
              "<style scoped>\n",
              "    .dataframe tbody tr th:only-of-type {\n",
              "        vertical-align: middle;\n",
              "    }\n",
              "\n",
              "    .dataframe tbody tr th {\n",
              "        vertical-align: top;\n",
              "    }\n",
              "\n",
              "    .dataframe thead th {\n",
              "        text-align: right;\n",
              "    }\n",
              "</style>\n",
              "<table border=\"1\" class=\"dataframe\">\n",
              "  <thead>\n",
              "    <tr style=\"text-align: right;\">\n",
              "      <th></th>\n",
              "      <th>userId</th>\n",
              "      <th>movieId</th>\n",
              "      <th>rating</th>\n",
              "      <th>title</th>\n",
              "      <th>genres</th>\n",
              "      <th>user</th>\n",
              "      <th>movie</th>\n",
              "    </tr>\n",
              "  </thead>\n",
              "  <tbody>\n",
              "    <tr>\n",
              "      <th>0</th>\n",
              "      <td>1</td>\n",
              "      <td>1</td>\n",
              "      <td>4.0</td>\n",
              "      <td>Toy Story (1995)</td>\n",
              "      <td>Adventure|Animation|Children|Comedy|Fantasy</td>\n",
              "      <td>0</td>\n",
              "      <td>0</td>\n",
              "    </tr>\n",
              "    <tr>\n",
              "      <th>1</th>\n",
              "      <td>5</td>\n",
              "      <td>1</td>\n",
              "      <td>4.0</td>\n",
              "      <td>Toy Story (1995)</td>\n",
              "      <td>Adventure|Animation|Children|Comedy|Fantasy</td>\n",
              "      <td>4</td>\n",
              "      <td>0</td>\n",
              "    </tr>\n",
              "    <tr>\n",
              "      <th>2</th>\n",
              "      <td>7</td>\n",
              "      <td>1</td>\n",
              "      <td>4.5</td>\n",
              "      <td>Toy Story (1995)</td>\n",
              "      <td>Adventure|Animation|Children|Comedy|Fantasy</td>\n",
              "      <td>6</td>\n",
              "      <td>0</td>\n",
              "    </tr>\n",
              "    <tr>\n",
              "      <th>3</th>\n",
              "      <td>15</td>\n",
              "      <td>1</td>\n",
              "      <td>2.5</td>\n",
              "      <td>Toy Story (1995)</td>\n",
              "      <td>Adventure|Animation|Children|Comedy|Fantasy</td>\n",
              "      <td>14</td>\n",
              "      <td>0</td>\n",
              "    </tr>\n",
              "    <tr>\n",
              "      <th>4</th>\n",
              "      <td>17</td>\n",
              "      <td>1</td>\n",
              "      <td>4.5</td>\n",
              "      <td>Toy Story (1995)</td>\n",
              "      <td>Adventure|Animation|Children|Comedy|Fantasy</td>\n",
              "      <td>16</td>\n",
              "      <td>0</td>\n",
              "    </tr>\n",
              "  </tbody>\n",
              "</table>\n",
              "</div>\n",
              "    <div class=\"colab-df-buttons\">\n",
              "\n",
              "  <div class=\"colab-df-container\">\n",
              "    <button class=\"colab-df-convert\" onclick=\"convertToInteractive('df-2853082c-7359-4fd4-b7c8-5f3a538ee315')\"\n",
              "            title=\"Convert this dataframe to an interactive table.\"\n",
              "            style=\"display:none;\">\n",
              "\n",
              "  <svg xmlns=\"http://www.w3.org/2000/svg\" height=\"24px\" viewBox=\"0 -960 960 960\">\n",
              "    <path d=\"M120-120v-720h720v720H120Zm60-500h600v-160H180v160Zm220 220h160v-160H400v160Zm0 220h160v-160H400v160ZM180-400h160v-160H180v160Zm440 0h160v-160H620v160ZM180-180h160v-160H180v160Zm440 0h160v-160H620v160Z\"/>\n",
              "  </svg>\n",
              "    </button>\n",
              "\n",
              "  <style>\n",
              "    .colab-df-container {\n",
              "      display:flex;\n",
              "      gap: 12px;\n",
              "    }\n",
              "\n",
              "    .colab-df-convert {\n",
              "      background-color: #E8F0FE;\n",
              "      border: none;\n",
              "      border-radius: 50%;\n",
              "      cursor: pointer;\n",
              "      display: none;\n",
              "      fill: #1967D2;\n",
              "      height: 32px;\n",
              "      padding: 0 0 0 0;\n",
              "      width: 32px;\n",
              "    }\n",
              "\n",
              "    .colab-df-convert:hover {\n",
              "      background-color: #E2EBFA;\n",
              "      box-shadow: 0px 1px 2px rgba(60, 64, 67, 0.3), 0px 1px 3px 1px rgba(60, 64, 67, 0.15);\n",
              "      fill: #174EA6;\n",
              "    }\n",
              "\n",
              "    .colab-df-buttons div {\n",
              "      margin-bottom: 4px;\n",
              "    }\n",
              "\n",
              "    [theme=dark] .colab-df-convert {\n",
              "      background-color: #3B4455;\n",
              "      fill: #D2E3FC;\n",
              "    }\n",
              "\n",
              "    [theme=dark] .colab-df-convert:hover {\n",
              "      background-color: #434B5C;\n",
              "      box-shadow: 0px 1px 3px 1px rgba(0, 0, 0, 0.15);\n",
              "      filter: drop-shadow(0px 1px 2px rgba(0, 0, 0, 0.3));\n",
              "      fill: #FFFFFF;\n",
              "    }\n",
              "  </style>\n",
              "\n",
              "    <script>\n",
              "      const buttonEl =\n",
              "        document.querySelector('#df-2853082c-7359-4fd4-b7c8-5f3a538ee315 button.colab-df-convert');\n",
              "      buttonEl.style.display =\n",
              "        google.colab.kernel.accessAllowed ? 'block' : 'none';\n",
              "\n",
              "      async function convertToInteractive(key) {\n",
              "        const element = document.querySelector('#df-2853082c-7359-4fd4-b7c8-5f3a538ee315');\n",
              "        const dataTable =\n",
              "          await google.colab.kernel.invokeFunction('convertToInteractive',\n",
              "                                                    [key], {});\n",
              "        if (!dataTable) return;\n",
              "\n",
              "        const docLinkHtml = 'Like what you see? Visit the ' +\n",
              "          '<a target=\"_blank\" href=https://colab.research.google.com/notebooks/data_table.ipynb>data table notebook</a>'\n",
              "          + ' to learn more about interactive tables.';\n",
              "        element.innerHTML = '';\n",
              "        dataTable['output_type'] = 'display_data';\n",
              "        await google.colab.output.renderOutput(dataTable, element);\n",
              "        const docLink = document.createElement('div');\n",
              "        docLink.innerHTML = docLinkHtml;\n",
              "        element.appendChild(docLink);\n",
              "      }\n",
              "    </script>\n",
              "  </div>\n",
              "\n",
              "\n",
              "<div id=\"df-a174e299-ea2e-4273-b67f-09ba27595338\">\n",
              "  <button class=\"colab-df-quickchart\" onclick=\"quickchart('df-a174e299-ea2e-4273-b67f-09ba27595338')\"\n",
              "            title=\"Suggest charts\"\n",
              "            style=\"display:none;\">\n",
              "\n",
              "<svg xmlns=\"http://www.w3.org/2000/svg\" height=\"24px\"viewBox=\"0 0 24 24\"\n",
              "     width=\"24px\">\n",
              "    <g>\n",
              "        <path d=\"M19 3H5c-1.1 0-2 .9-2 2v14c0 1.1.9 2 2 2h14c1.1 0 2-.9 2-2V5c0-1.1-.9-2-2-2zM9 17H7v-7h2v7zm4 0h-2V7h2v10zm4 0h-2v-4h2v4z\"/>\n",
              "    </g>\n",
              "</svg>\n",
              "  </button>\n",
              "\n",
              "<style>\n",
              "  .colab-df-quickchart {\n",
              "      --bg-color: #E8F0FE;\n",
              "      --fill-color: #1967D2;\n",
              "      --hover-bg-color: #E2EBFA;\n",
              "      --hover-fill-color: #174EA6;\n",
              "      --disabled-fill-color: #AAA;\n",
              "      --disabled-bg-color: #DDD;\n",
              "  }\n",
              "\n",
              "  [theme=dark] .colab-df-quickchart {\n",
              "      --bg-color: #3B4455;\n",
              "      --fill-color: #D2E3FC;\n",
              "      --hover-bg-color: #434B5C;\n",
              "      --hover-fill-color: #FFFFFF;\n",
              "      --disabled-bg-color: #3B4455;\n",
              "      --disabled-fill-color: #666;\n",
              "  }\n",
              "\n",
              "  .colab-df-quickchart {\n",
              "    background-color: var(--bg-color);\n",
              "    border: none;\n",
              "    border-radius: 50%;\n",
              "    cursor: pointer;\n",
              "    display: none;\n",
              "    fill: var(--fill-color);\n",
              "    height: 32px;\n",
              "    padding: 0;\n",
              "    width: 32px;\n",
              "  }\n",
              "\n",
              "  .colab-df-quickchart:hover {\n",
              "    background-color: var(--hover-bg-color);\n",
              "    box-shadow: 0 1px 2px rgba(60, 64, 67, 0.3), 0 1px 3px 1px rgba(60, 64, 67, 0.15);\n",
              "    fill: var(--button-hover-fill-color);\n",
              "  }\n",
              "\n",
              "  .colab-df-quickchart-complete:disabled,\n",
              "  .colab-df-quickchart-complete:disabled:hover {\n",
              "    background-color: var(--disabled-bg-color);\n",
              "    fill: var(--disabled-fill-color);\n",
              "    box-shadow: none;\n",
              "  }\n",
              "\n",
              "  .colab-df-spinner {\n",
              "    border: 2px solid var(--fill-color);\n",
              "    border-color: transparent;\n",
              "    border-bottom-color: var(--fill-color);\n",
              "    animation:\n",
              "      spin 1s steps(1) infinite;\n",
              "  }\n",
              "\n",
              "  @keyframes spin {\n",
              "    0% {\n",
              "      border-color: transparent;\n",
              "      border-bottom-color: var(--fill-color);\n",
              "      border-left-color: var(--fill-color);\n",
              "    }\n",
              "    20% {\n",
              "      border-color: transparent;\n",
              "      border-left-color: var(--fill-color);\n",
              "      border-top-color: var(--fill-color);\n",
              "    }\n",
              "    30% {\n",
              "      border-color: transparent;\n",
              "      border-left-color: var(--fill-color);\n",
              "      border-top-color: var(--fill-color);\n",
              "      border-right-color: var(--fill-color);\n",
              "    }\n",
              "    40% {\n",
              "      border-color: transparent;\n",
              "      border-right-color: var(--fill-color);\n",
              "      border-top-color: var(--fill-color);\n",
              "    }\n",
              "    60% {\n",
              "      border-color: transparent;\n",
              "      border-right-color: var(--fill-color);\n",
              "    }\n",
              "    80% {\n",
              "      border-color: transparent;\n",
              "      border-right-color: var(--fill-color);\n",
              "      border-bottom-color: var(--fill-color);\n",
              "    }\n",
              "    90% {\n",
              "      border-color: transparent;\n",
              "      border-bottom-color: var(--fill-color);\n",
              "    }\n",
              "  }\n",
              "</style>\n",
              "\n",
              "  <script>\n",
              "    async function quickchart(key) {\n",
              "      const quickchartButtonEl =\n",
              "        document.querySelector('#' + key + ' button');\n",
              "      quickchartButtonEl.disabled = true;  // To prevent multiple clicks.\n",
              "      quickchartButtonEl.classList.add('colab-df-spinner');\n",
              "      try {\n",
              "        const charts = await google.colab.kernel.invokeFunction(\n",
              "            'suggestCharts', [key], {});\n",
              "      } catch (error) {\n",
              "        console.error('Error during call to suggestCharts:', error);\n",
              "      }\n",
              "      quickchartButtonEl.classList.remove('colab-df-spinner');\n",
              "      quickchartButtonEl.classList.add('colab-df-quickchart-complete');\n",
              "    }\n",
              "    (() => {\n",
              "      let quickchartButtonEl =\n",
              "        document.querySelector('#df-a174e299-ea2e-4273-b67f-09ba27595338 button');\n",
              "      quickchartButtonEl.style.display =\n",
              "        google.colab.kernel.accessAllowed ? 'block' : 'none';\n",
              "    })();\n",
              "  </script>\n",
              "</div>\n",
              "\n",
              "    </div>\n",
              "  </div>\n"
            ],
            "application/vnd.google.colaboratory.intrinsic+json": {
              "type": "dataframe",
              "variable_name": "data"
            }
          },
          "metadata": {},
          "execution_count": 10
        }
      ]
    },
    {
      "cell_type": "code",
      "source": [
        "from sklearn.model_selection import train_test_split\n",
        "train, test = train_test_split(data, test_size=0.2, random_state=42)"
      ],
      "metadata": {
        "id": "Bf4YelKbr6j9"
      },
      "execution_count": null,
      "outputs": []
    },
    {
      "cell_type": "code",
      "source": [
        "n_movies = data[[\"movie\"]].drop_duplicates().shape[0]\n",
        "n_users = rating['userId'].unique().shape[0]\n",
        "print(n_movies, n_users)"
      ],
      "metadata": {
        "id": "lih2sAG4DJD3",
        "colab": {
          "base_uri": "https://localhost:8080/"
        },
        "outputId": "217578ab-fc74-4d4b-d223-0379b8d9b2f6"
      },
      "execution_count": null,
      "outputs": [
        {
          "output_type": "stream",
          "name": "stdout",
          "text": [
            "9724 610\n"
          ]
        }
      ]
    },
    {
      "cell_type": "markdown",
      "source": [
        "**Model Architecture**"
      ],
      "metadata": {
        "id": "5-bLfvagO-tf"
      }
    },
    {
      "cell_type": "code",
      "source": [
        "# creating movies embedding path\n",
        "movies_input = Input(shape=[1], name=\"Movies-Input\")\n",
        "movies_embedding = Embedding(n_movies+1, 5, name=\"Movies-Embedding\")(movies_input)\n",
        "movies_vec = Flatten(name=\"Flatten-Movies\")(movies_embedding)\n",
        "\n",
        "# creating user embedding path\n",
        "user_input = Input(shape=[1], name=\"User-Input\")\n",
        "user_embedding = Embedding(n_users+1, 5, name=\"User-Embedding\")(user_input)\n",
        "user_vec = Flatten(name=\"Flatten-Users\")(user_embedding)\n",
        "\n",
        "# concatenate features\n",
        "conc = Concatenate()([movies_vec, user_vec])\n",
        "\n",
        "# add fully-connected-layers\n",
        "dropout0 = Dropout(0.2)(conc)\n",
        "fc1 = Dense(32, activation='relu')(dropout0)\n",
        "dropout1 = Dropout(0.2)(fc1)\n",
        "fc2 = Dense(16, activation='relu')(dropout1)\n",
        "out = Dense(1)(fc2)\n",
        "\n",
        "# Create model and compile it\n",
        "model = Model([user_input, movies_input], out)\n",
        "model.compile('adam', 'mean_squared_error')"
      ],
      "metadata": {
        "id": "4H4gwG-9cTHW"
      },
      "execution_count": null,
      "outputs": []
    },
    {
      "cell_type": "code",
      "source": [
        "from tensorflow.keras.utils import plot_model\n",
        "plot_model(model, to_file='model_architecture.png', show_shapes=True, show_layer_names=True)"
      ],
      "metadata": {
        "id": "yD7PqGwN4qhb",
        "colab": {
          "base_uri": "https://localhost:8080/",
          "height": 976
        },
        "outputId": "cd8f8f53-1a23-4aad-dc23-27a61717f646"
      },
      "execution_count": null,
      "outputs": [
        {
          "output_type": "execute_result",
          "data": {
            "image/png": "[encoded data removed]",
            "text/plain": [
              "<IPython.core.display.Image object>"
            ]
          },
          "metadata": {},
          "execution_count": 39
        }
      ]
    },
    {
      "cell_type": "markdown",
      "source": [
        "**Training**"
      ],
      "metadata": {
        "id": "EQuuSYfbPYFQ"
      }
    },
    {
      "cell_type": "code",
      "source": [
        "history = model.fit([train['user'], train['movie']], train['rating'], epochs=10, batch_size=8)"
      ],
      "metadata": {
        "id": "ubpcM0qjr6yS",
        "colab": {
          "base_uri": "https://localhost:8080/"
        },
        "outputId": "ebfd7699-879c-4243-c5c1-971731a0aba4"
      },
      "execution_count": null,
      "outputs": [
        {
          "output_type": "stream",
          "name": "stdout",
          "text": [
            "Epoch 1/10\n",
            "10084/10084 [==============================] - 37s 3ms/step - loss: 0.9752\n",
            "Epoch 2/10\n",
            "10084/10084 [==============================] - 30s 3ms/step - loss: 0.7595\n",
            "Epoch 3/10\n",
            "10084/10084 [==============================] - 26s 3ms/step - loss: 0.7252\n",
            "Epoch 4/10\n",
            "10084/10084 [==============================] - 35s 3ms/step - loss: 0.7027\n",
            "Epoch 5/10\n",
            "10084/10084 [==============================] - 29s 3ms/step - loss: 0.6912\n",
            "Epoch 6/10\n",
            "10084/10084 [==============================] - 22s 2ms/step - loss: 0.6841\n",
            "Epoch 7/10\n",
            "10084/10084 [==============================] - 25s 2ms/step - loss: 0.6776\n",
            "Epoch 8/10\n",
            "10084/10084 [==============================] - 26s 3ms/step - loss: 0.6710\n",
            "Epoch 9/10\n",
            "10084/10084 [==============================] - 26s 3ms/step - loss: 0.6658\n",
            "Epoch 10/10\n",
            "10084/10084 [==============================] - 24s 2ms/step - loss: 0.6623\n"
          ]
        }
      ]
    },
    {
      "cell_type": "code",
      "source": [
        "plt.plot(history.history['loss'])\n",
        "plt.xlabel(\"Epochs\")\n",
        "plt.ylabel(\"Training Error\")"
      ],
      "metadata": {
        "colab": {
          "base_uri": "https://localhost:8080/",
          "height": 467
        },
        "id": "RnhpoO12r627",
        "outputId": "40039898-4dad-41f5-df87-64709aedc4a2"
      },
      "execution_count": null,
      "outputs": [
        {
          "output_type": "execute_result",
          "data": {
            "text/plain": [
              "Text(0, 0.5, 'Training Error')"
            ]
          },
          "metadata": {},
          "execution_count": 42
        },
        {
          "output_type": "display_data",
          "data": {
            "text/plain": [
              "<Figure size 640x480 with 1 Axes>"
            ],
            "image/png": "[encoded data removed]"
          },
          "metadata": {}
        }
      ]
    },
    {
      "cell_type": "markdown",
      "source": [
        "**Test and evaluation**"
      ],
      "metadata": {
        "id": "C-9k5ka7Pezt"
      }
    },
    {
      "cell_type": "code",
      "source": [
        "model.evaluate([test[\"user\"], test[\"movie\"]], test[\"rating\"])"
      ],
      "metadata": {
        "colab": {
          "base_uri": "https://localhost:8080/"
        },
        "id": "esIK48A4r67d",
        "outputId": "39b83999-7a9b-432c-bdc0-3811bbb35b42"
      },
      "execution_count": null,
      "outputs": [
        {
          "output_type": "stream",
          "name": "stdout",
          "text": [
            "631/631 [==============================] - 1s 2ms/step - loss: 0.7387\n"
          ]
        },
        {
          "output_type": "execute_result",
          "data": {
            "text/plain": [
              "0.7386579513549805"
            ]
          },
          "metadata": {},
          "execution_count": 43
        }
      ]
    },
    {
      "cell_type": "code",
      "source": [
        "# creation of input for prediction\n",
        "movies_data = np.array(list(set(data.movie)))\n",
        "\n",
        "# id of the user that we want to see the prediction\n",
        "id_user = 1\n",
        "user = np.array([id_user for i in range(len(movies_data))])\n",
        "\n",
        "predictions = model.predict([user, movies_data])"
      ],
      "metadata": {
        "colab": {
          "base_uri": "https://localhost:8080/"
        },
        "id": "yODO23uJ4cfB",
        "outputId": "b37870ea-ac41-4f9d-8410-ae7ba2c44505"
      },
      "execution_count": null,
      "outputs": [
        {
          "output_type": "stream",
          "name": "stdout",
          "text": [
            "304/304 [==============================] - 1s 4ms/step\n"
          ]
        }
      ]
    },
    {
      "cell_type": "code",
      "source": [
        "predictions = np.array([a[0] for a in predictions])"
      ],
      "metadata": {
        "id": "1y4qLFqHqSDX"
      },
      "execution_count": null,
      "outputs": []
    },
    {
      "cell_type": "code",
      "source": [
        "# additional function to calculate the number of OUTLIERS\n",
        "recommended_movies_ids = (-predictions).argsort()\n",
        "j = 0 # outliers < than 0.3\n",
        "k = 0 # outliers > than 5.2\n",
        "for i in range(0, len(recommended_movies_ids)-1):\n",
        "  if (predictions[i] < 0.3):\n",
        "    j += 1\n",
        "    print(predictions[i])\n",
        "  if (predictions[i] > 5.2):\n",
        "    k += 1\n",
        "print(j, k, \" sum:\", j+k)"
      ],
      "metadata": {
        "colab": {
          "base_uri": "https://localhost:8080/"
        },
        "id": "DqnOo_a3qX5t",
        "outputId": "6056d0bd-59fe-43cf-ec04-1dde6ffb0aca"
      },
      "execution_count": null,
      "outputs": [
        {
          "output_type": "stream",
          "name": "stdout",
          "text": [
            "0 0  sum: 0\n"
          ]
        }
      ]
    },
    {
      "cell_type": "code",
      "source": [
        "# method in which I display all the movies reviewed by a user and the model's prediction of those movies\n",
        "\n",
        "j = 0 # j counts the number of review\n",
        "for i in range(data.shape[0]):\n",
        "  if (id_user == data['user'][i]):\n",
        "    print(data['movie'].iloc[i], \" \", data['title'].iloc[i], \"-\",\n",
        "          data['genres'].iloc[i], data['rating'].iloc[i], \" vs \", predictions[data['movie'].iloc[i]])\n",
        "    j += 1\n",
        "j"
      ],
      "metadata": {
        "colab": {
          "base_uri": "https://localhost:8080/"
        },
        "id": "I5bVzJaPXy_5",
        "outputId": "96b6ca6a-9847-4820-d05d-f0776191b1ba"
      },
      "execution_count": null,
      "outputs": [
        {
          "output_type": "stream",
          "name": "stdout",
          "text": [
            "291   Tommy Boy (1995) - Comedy 4.0  vs  3.4580247\n",
            "2670   Gladiator (2000) - Action|Adventure|Drama 4.0  vs  3.739492\n",
            "277   Shawshank Redemption, The (1994) - Crime|Drama 3.0  vs  4.2798367\n",
            "1283   Good Will Hunting (1997) - Drama|Romance 4.5  vs  3.902498\n",
            "4607   Kill Bill: Vol. 1 (2003) - Action|Crime|Thriller 4.0  vs  4.1076355\n",
            "5294   Collateral (2004) - Action|Crime|Drama|Thriller 3.5  vs  3.596042\n",
            "6236   Talladega Nights: The Ballad of Ricky Bobby (2006) - Action|Comedy 4.0  vs  3.2601266\n",
            "6298   Departed, The (2006) - Crime|Drama|Thriller 4.0  vs  4.237342\n",
            "6693   Dark Knight, The (2008) - Action|Crime|Drama|IMAX 4.5  vs  4.2049837\n",
            "6784   Step Brothers (2008) - Comedy 5.0  vs  3.3592384\n",
            "6993   Inglourious Basterds (2009) - Action|Drama|War 4.5  vs  4.0486937\n",
            "7137   Zombieland (2009) - Action|Comedy|Horror 3.0  vs  3.7374275\n",
            "7241   Shutter Island (2010) - Drama|Mystery|Thriller 4.0  vs  3.8716848\n",
            "7306   Exit Through the Gift Shop (2010) - Comedy|Documentary 3.0  vs  4.1298923\n",
            "7355   Inception (2010) - Action|Crime|Drama|Mystery|Sci-Fi|Thriller|IMAX 4.0  vs  4.01952\n",
            "7398   Town, The (2010) - Crime|Drama|Thriller 4.5  vs  3.7458036\n",
            "7419   Inside Job (2010) - Documentary 5.0  vs  4.109337\n",
            "7572   Louis C.K.: Hilarious (2010) - Comedy 4.0  vs  4.055748\n",
            "7679   Warrior (2011) - Drama 5.0  vs  3.7506526\n",
            "7750   Dark Knight Rises, The (2012) - Action|Adventure|Crime|IMAX 3.5  vs  3.955095\n",
            "7758   Girl with the Dragon Tattoo, The (2011) - Drama|Thriller 2.5  vs  3.5001068\n",
            "8045   Django Unchained (2012) - Action|Drama|Western 3.5  vs  3.7621167\n",
            "8287   Wolf of Wall Street, The (2013) - Comedy|Crime|Drama 5.0  vs  3.9264622\n",
            "8358   Interstellar (2014) - Sci-Fi|IMAX 3.0  vs  3.8388774\n",
            "8448   Whiplash (2014) - Drama 4.0  vs  4.0486755\n",
            "8491   The Drop (2014) - Crime|Drama|Thriller 2.0  vs  3.191725\n",
            "8532   Ex Machina (2015) - Drama|Sci-Fi|Thriller 3.5  vs  3.812423\n",
            "8663   Mad Max: Fury Road (2015) - Action|Adventure|Sci-Fi|Thriller 5.0  vs  3.8107715\n",
            "8810   The Jinx: The Life and Deaths of Robert Durst (2015) - Documentary 5.0  vs  3.7281861\n"
          ]
        },
        {
          "output_type": "execute_result",
          "data": {
            "text/plain": [
              "29"
            ]
          },
          "metadata": {},
          "execution_count": 66
        }
      ]
    },
    {
      "cell_type": "code",
      "source": [
        "recommended_movies_ids = (-predictions).argsort()[:10]\n",
        "\n",
        "print(recommended_movies_ids)\n",
        "\n",
        "predictions[recommended_movies_ids]"
      ],
      "metadata": {
        "colab": {
          "base_uri": "https://localhost:8080/"
        },
        "id": "sSUR8SIi5PXp",
        "outputId": "6afe87f8-6b3f-44b9-cbde-f9bf1493bdfe"
      },
      "execution_count": null,
      "outputs": [
        {
          "output_type": "stream",
          "name": "stdout",
          "text": [
            "[1761 2579  277 6298 2409  898 8237  659  796 6693]\n"
          ]
        },
        {
          "output_type": "execute_result",
          "data": {
            "text/plain": [
              "array([4.3644886, 4.302701 , 4.2798367, 4.237342 , 4.2274113, 4.224248 ,\n",
              "       4.2237816, 4.212536 , 4.2081876, 4.2049837], dtype=float32)"
            ]
          },
          "metadata": {},
          "execution_count": 67
        }
      ]
    },
    {
      "cell_type": "markdown",
      "source": [],
      "metadata": {
        "id": "S6H_Md9TiQsW"
      }
    },
    {
      "cell_type": "code",
      "source": [
        "film = data[[\"movie\", \"movieId\",\"title\",\"genres\"]].sort_values(by='movie').drop_duplicates()\n",
        "film = film.set_index('movie')\n",
        "\n",
        "# prediction for the user\n",
        "# i : movie index (range from 0 to 9723)\n",
        "# j : order of preference (from 0 being the most recommended to 9 being the 10 recommended movies )\n",
        "for i in range(predictions.shape[0]) :\n",
        "  for j in range(recommended_movies_ids.shape[0]) :\n",
        "    if (i == recommended_movies_ids[j]) :\n",
        "      print(i,j,film['title'].iloc[i],\"-\", film['genres'].iloc[i], predictions[i])"
      ],
      "metadata": {
        "id": "TdV7iP_LUpOf",
        "colab": {
          "base_uri": "https://localhost:8080/"
        },
        "outputId": "0cdd6208-5672-49e7-c565-990426450d21"
      },
      "execution_count": null,
      "outputs": [
        {
          "output_type": "stream",
          "name": "stdout",
          "text": [
            "277 2 Shawshank Redemption, The (1994) - Crime|Drama 4.2798367\n",
            "659 7 Godfather, The (1972) - Crime|Drama 4.212536\n",
            "796 8 Secrets & Lies (1996) - Drama 4.2081876\n",
            "898 5 Princess Bride, The (1987) - Action|Adventure|Comedy|Fantasy|Romance 4.224248\n",
            "1761 0 Celebration, The (Festen) (1998) - Drama 4.3644886\n",
            "2409 4 Five Easy Pieces (1970) - Drama 4.2274113\n",
            "2579 1 Guess Who's Coming to Dinner (1967) - Drama 4.302701\n",
            "6298 3 Departed, The (2006) - Crime|Drama|Thriller 4.237342\n",
            "6693 9 Dark Knight, The (2008) - Action|Crime|Drama|IMAX 4.2049837\n",
            "8237 6 Prisoners (2013) - Drama|Mystery|Thriller 4.2237816\n"
          ]
        }
      ]
    },
    {
      "cell_type": "code",
      "source": [],
      "metadata": {
        "id": "j6KvtT4-JV_r"
      },
      "execution_count": null,
      "outputs": []
    },
    {
      "cell_type": "markdown",
      "source": [
        "## **TRADITIONAL MODEL, MATRIX FACTORIZATION**"
      ],
      "metadata": {
        "id": "1UAyZQSPOXPd"
      }
    },
    {
      "cell_type": "code",
      "execution_count": null,
      "metadata": {
        "id": "Zvocc2mblmSp"
      },
      "outputs": [],
      "source": [
        "class Matrix_Factorization:\n",
        "    def __init__(self, alpha = 0.00001, iterations = 50, num_of_latent = 200, lam = 0.0005):\n",
        "        self.alpha = alpha\n",
        "        self.iterations = iterations\n",
        "        self.num_of_latent = num_of_latent\n",
        "        self.lam = lam\n",
        "\n",
        "    def fit(self, train):\n",
        "        num_user = max([t[0] for t in train]) + 1\n",
        "        num_movie = max([t[1] for t in train]) + 1\n",
        "\n",
        "        self.train = train\n",
        "\n",
        "        # P represents the user matrix, and Q represents the movie matrix\n",
        "        self.P = np.random.normal(0, 1, (num_user, self.num_of_latent))\n",
        "        self.Q = np.random.normal(0, 1, (num_movie, self.num_of_latent))\n",
        "\n",
        "        rmse_lst = []\n",
        "        for f in range(self.iterations):\n",
        "            np.random.shuffle(self.train)\n",
        "\n",
        "            temp_mse = 0\n",
        "            previous_Q = np.copy(self.Q)\n",
        "            previous_P = np.copy(self.P)\n",
        "            Count = 0\n",
        "\n",
        "            for tup in self.train:\n",
        "                u,i,rating = tup\n",
        "                error = rating - self.Q[i].T @ self.P[u]\n",
        "\n",
        "                if abs(error) > 20:\n",
        "                    continue\n",
        "                Count += 1\n",
        "                temp_mse += error**2\n",
        "\n",
        "                self.P[u] += 2 * self.alpha * error * self.Q[i] - self.lam * self.P[u]\n",
        "                self.Q[i] += 2 * self.alpha * error * self.P[u] - self.lam * self.Q[i]\n",
        "\n",
        "            rmse_lst.append(np.sqrt(temp_mse/Count))\n",
        "            print(np.sqrt(temp_mse/Count))\n",
        "\n",
        "            if len(rmse_lst) > 1 and rmse_lst[-1] < rmse_lst[-2]:\n",
        "                self.alpha *= np.random.uniform(1, 1.5)\n",
        "            else:\n",
        "                self.alpha /= np.random.uniform(1, 1.5)\n",
        "                if len(rmse_lst) > 1 and (rmse_lst[-2] - rmse_lst[-1]) / rmse_lst[-2] > 0.1:\n",
        "                    self.Q = previous_Q\n",
        "                    self.P = previous_P\n",
        "\n",
        "        self.rmse = rmse_lst\n",
        "\n",
        "    def ind_predict(self, tup):\n",
        "        u,i,_ = tup\n",
        "        return self.Q[i].T @ self.P[u]\n",
        "\n",
        "    def predict(self, X):\n",
        "        res = []\n",
        "        for i in X:\n",
        "            res.append(self.ind_predict(i))\n",
        "        return res"
      ]
    },
    {
      "cell_type": "code",
      "source": [],
      "metadata": {
        "id": "FWLRkLQNRObT"
      },
      "execution_count": null,
      "outputs": []
    },
    {
      "cell_type": "code",
      "execution_count": null,
      "metadata": {
        "id": "VyjEVL9hROpW"
      },
      "outputs": [],
      "source": [
        "class Matrix_Factorization:\n",
        "    def __init__(self, alpha = 0.00001, iterations = 50, num_of_latent = 200, lam = 0.0005):\n",
        "        \"\"\"\n",
        "            Some initializations, if neccesary\n",
        "\n",
        "            attributes:\n",
        "                        alpha: Learning Rate, default 0.01\n",
        "                        num_iter: Number of Iterations to update coefficient with training data\n",
        "                        num_of_latent: Number of latent factor.\n",
        "                        lam: Regularization constant\n",
        "\n",
        "\n",
        "            TODO: 1. Initialize all variables needed.\n",
        "        \"\"\"\n",
        "        self.alpha = alpha\n",
        "        self.iterations = iterations\n",
        "        self.num_of_latent = num_of_latent\n",
        "        self.lam = lam\n",
        "\n",
        "    def fit(self, train):\n",
        "        \"\"\"\n",
        "            Train: list of tuples with (User, Movie, Rating)\n",
        "            num_user: Number of unique user.\n",
        "            num_movie: Number of unique movie\n",
        "\n",
        "            TODO: 2. Initialize num_user and num_movie\n",
        "                  3. Save the training set.\n",
        "                  4. Initialize P and Q matrix, with normal distribution with mean = 0.\n",
        "                  Hint: Think about what P and Q represent, what they should do.Think about the shape too.\n",
        "\n",
        "\n",
        "        \"\"\"\n",
        "        num_user = max([t[0] for t in train]) + 1\n",
        "        num_movie = max([t[1] for t in train]) + 1\n",
        "\n",
        "        self.train = train\n",
        "\n",
        "        # P represents the user matrix, and Q represents the movie matrix\n",
        "        self.P = np.random.normal(0, 1, (num_user, self.num_of_latent))\n",
        "        self.Q = np.random.normal(0, 1, (num_movie, self.num_of_latent))\n",
        "\n",
        "        rmse_lst = []\n",
        "\n",
        "        \"\"\"\n",
        "            TODO: 5: Calculate the error, using P and Q matrix.\n",
        "                  6: We need to check if the absolute value error is less than some constant. Store the previous Q and P for adaptive learning rate.\n",
        "                      If it is less than that constant then we update P and Q matrix.\n",
        "                      (When update, update the P and Q at the same time. Think about why it is important.)\n",
        "                      Otherwise use the error to update the Q and P matrix.\n",
        "\n",
        "                  7: For each entry update temp_mse, and append the Current iteration RMSE to rmse_lst.\n",
        "\n",
        "        \"\"\"\n",
        "\n",
        "        for f in range(self.iterations):\n",
        "            ### Random Shuffle. Why is this called?\n",
        "            np.random.shuffle(self.train)\n",
        "\n",
        "            temp_mse = 0\n",
        "            previous_Q = np.copy(self.Q)\n",
        "            previous_P = np.copy(self.P)\n",
        "            Count = 0\n",
        "\n",
        "            for tup in self.train:\n",
        "                u,i,rating = tup\n",
        "                error = rating - self.Q[i].T @ self.P[u]\n",
        "\n",
        "                if abs(error) > 20:\n",
        "                    continue\n",
        "                Count += 1\n",
        "                temp_mse += error**2\n",
        "\n",
        "                self.P[u] += 2 * self.alpha * error * self.Q[i] - self.lam * self.P[u]\n",
        "                self.Q[i] += 2 * self.alpha * error * self.P[u] - self.lam * self.Q[i]\n",
        "\n",
        "            rmse_lst.append(np.sqrt(temp_mse/Count))\n",
        "            print(np.sqrt(temp_mse/Count))\n",
        "\n",
        "\n",
        "            \"\"\"\n",
        "                TODO: 8: Implement the adaptive learning rate.\n",
        "                         If current rmse is less than previous iteration, let's increase by a factor range from 1 - 1.5\n",
        "                         Otherwise we decrease by a factor range from 0.5 - 1\n",
        "                      9: If the current rmse is greater than previous iteration.\n",
        "                         Check the relative error, (previous - current)/ previous.\n",
        "                         If it is greater than 0.1, we restore the previous Q and P. (Try without it. Think about why we need this.)\n",
        "            \"\"\"\n",
        "            if len(rmse_lst) > 1 and rmse_lst[-1] < rmse_lst[-2]:\n",
        "                self.alpha *= np.random.uniform(1, 1.5)\n",
        "            else:\n",
        "                self.alpha /= np.random.uniform(1, 1.5)\n",
        "                if len(rmse_lst) > 1 and (rmse_lst[-2] - rmse_lst[-1]) / rmse_lst[-2] > 0.1:\n",
        "                    self.Q = previous_Q\n",
        "                    self.P = previous_P\n",
        "\n",
        "        self.rmse = rmse_lst\n",
        "\n",
        "    def ind_predict(self, tup):\n",
        "        \"\"\"\n",
        "            tup: One single entry, (user, movie)\n",
        "\n",
        "            TODO: 10: Use P and Q to make prediction on single entry.\n",
        "\n",
        "        \"\"\"\n",
        "        u,i,_ = tup\n",
        "        return self.Q[i].T @ self.P[u]\n",
        "\n",
        "    def predict(self, X):\n",
        "        \"\"\"\n",
        "            X: list of entries\n",
        "\n",
        "            TODO: 11: Use ind_predict we create to make predicitons.\n",
        "        \"\"\"\n",
        "        res = []\n",
        "        for i in X:\n",
        "            res.append(self.ind_predict(i))\n",
        "        return res"
      ]
    },
    {
      "cell_type": "code",
      "execution_count": null,
      "metadata": {
        "id": "OeuICYV7Ncco"
      },
      "outputs": [],
      "source": [
        "class Matrix_Factorization_with_bias:\n",
        "    def __init__(self, alpha = 0.00001, iterations = 50, num_of_latent = 200, lam = 0.01):\n",
        "        self.alpha = alpha\n",
        "        self.iterations = iterations\n",
        "        self.num_of_latent = num_of_latent\n",
        "        self.lam = lam\n",
        "\n",
        "\n",
        "    def fit(self, train):\n",
        "        num_user = max([t[0] for t in train]) + 1\n",
        "        num_movie = max([t[1] for t in train]) + 1\n",
        "\n",
        "        self.train = train\n",
        "\n",
        "        self.P = np.random.normal(0, 1, (num_user, self.num_of_latent))\n",
        "        self.Q = np.random.normal(0, 1, (num_movie, self.num_of_latent))\n",
        "\n",
        "        self.bu = np.random.uniform(size=num_user)\n",
        "        self.bi = np.random.uniform(size=num_movie)\n",
        "        self.b = np.mean(list(map(lambda t:t[2], train)))\n",
        "\n",
        "        rmse_lst = []\n",
        "\n",
        "        for f in range(self.iterations):\n",
        "            np.random.shuffle(self.train)\n",
        "\n",
        "            temp_mse = 0\n",
        "            previous_Q = self.Q.copy()\n",
        "            previous_P = self.P.copy()\n",
        "            previous_bu = self.bu.copy()\n",
        "            previous_bi = self.bi.copy()\n",
        "\n",
        "            Count = 0\n",
        "            for tup in self.train:\n",
        "                u,i,rating = tup\n",
        "\n",
        "                error = rating - self.Q[i].T @ self.P[u] - self.bu[u] - self.bi[i] - self.b\n",
        "                Count += 1\n",
        "                temp_mse += error ** 2\n",
        "\n",
        "                p = self.P[u].copy()\n",
        "                self.P[u] += 2 * self.alpha * error * self.Q[i] - self.lam * self.P[u]\n",
        "                self.Q[i] += 2 * self.alpha * error * p - self.lam * self.Q[i]\n",
        "\n",
        "                self.bu[u] += 2 * self.alpha * error - self.lam * self.bu[u]\n",
        "                self.bi[i] += 2 * self.alpha * error - self.lam * self.bi[i]\n",
        "\n",
        "            rmse_lst.append(np.sqrt(temp_mse/Count))\n",
        "            print(np.sqrt(temp_mse/Count))\n",
        "\n",
        "            if len(rmse_lst) > 1 and rmse_lst[-1] < rmse_lst[-2]:\n",
        "                self.alpha *= np.random.uniform(1, 1.5)\n",
        "            else:\n",
        "                self.alpha /= np.random.uniform(1, 1.5)\n",
        "                if len(rmse_lst) > 1 and (rmse_lst[-2] - rmse_lst[-1]) / rmse_lst[-2] > 0.1:\n",
        "                    self.Q = previous_Q\n",
        "                    self.P = previous_P\n",
        "                    self.bu = previous_bu\n",
        "                    self.bi = previous_bi\n",
        "\n",
        "        self.rmse = rmse_lst\n",
        "\n",
        "    def ind_predict(self, tup):\n",
        "        u,i,_ = tup\n",
        "        return self.Q[i].T @ self.P[u] + self.bu[u] + self.bi[i] + self.b\n",
        "\n",
        "\n",
        "    def predict(self, X):\n",
        "        res = []\n",
        "        for i in X:\n",
        "            res.append(self.ind_predict(i))\n",
        "        return res\n"
      ]
    },
    {
      "cell_type": "markdown",
      "source": [
        "**Data preprocessing**\n",
        "\n",
        "\n",
        "in this case the preprocessing is slightly different because the model requires input in a different format"
      ],
      "metadata": {
        "id": "nPoytmSeQWgP"
      }
    },
    {
      "cell_type": "code",
      "source": [
        "ratings = pd.read_csv('./ratings.csv')\n",
        "ratings = ratings.sort_values('timestamp').reset_index(drop = True).astype(int)\n",
        "a = np.sort(ratings.movieId.unique())\n",
        "index_dict = {}\n",
        "for i in range(len(a)):\n",
        "    index_dict[a[i]]  = i\n",
        "ratings.movieId = ratings.movieId.apply(lambda x: index_dict[x])\n",
        "\n",
        "grouped_userId = list(ratings.groupby(['userId']).apply(lambda x: x[['movieId','rating']].values))\n",
        "grouped_movieId = list(ratings.groupby(['movieId']).apply(lambda x: x[['userId','rating']].values))"
      ],
      "metadata": {
        "id": "MeVPZKjYJZyy"
      },
      "execution_count": null,
      "outputs": []
    },
    {
      "cell_type": "code",
      "source": [
        "np.random.seed(0)\n",
        "train = set()\n",
        "test = set()\n",
        "\n",
        "for i in range(len(grouped_movieId)):\n",
        "    temp_len = len(grouped_movieId[i])\n",
        "    for j in range(temp_len):\n",
        "        if j < temp_len * 0.8:\n",
        "            train.add((grouped_movieId[i][j][0]-1,i - 1, grouped_movieId[i][j][1]))\n",
        "        else:\n",
        "            test.add((grouped_movieId[i][j][0] -1, i - 1,grouped_movieId[i][j][1]))\n",
        "train = list(train)\n",
        "test = list(test)"
      ],
      "metadata": {
        "id": "ZHkvOBrTJb2i"
      },
      "execution_count": null,
      "outputs": []
    },
    {
      "cell_type": "markdown",
      "source": [
        "**Training and Test**"
      ],
      "metadata": {
        "id": "fRZFmZvOQpgC"
      }
    },
    {
      "cell_type": "code",
      "source": [
        "clf = Matrix_Factorization_with_bias(alpha = 5e-4, iterations = 20, num_of_latent = 5, lam = 6e-3)\n",
        "clf.fit(train)"
      ],
      "metadata": {
        "colab": {
          "base_uri": "https://localhost:8080/"
        },
        "id": "PshA1FlAJefa",
        "outputId": "9e727bc3-2d97-45a7-eb24-3ca8f9ca0b87"
      },
      "execution_count": null,
      "outputs": [
        {
          "output_type": "stream",
          "name": "stdout",
          "text": [
            "1.6924172060116782\n",
            "1.2434957294952644\n",
            "1.1648729311711619\n",
            "1.1249885210063242\n",
            "1.0978498677917472\n",
            "1.070940298545258\n",
            "1.0468986162133067\n",
            "1.025245229870934\n",
            "1.000155698513702\n",
            "0.9762249478949396\n",
            "0.9541863049756328\n",
            "0.934335315981032\n",
            "0.9180329377570957\n",
            "0.9056281068065704\n",
            "0.8962547814634203\n",
            "0.8903519444484931\n",
            "0.8861985734915271\n",
            "0.8797690662657304\n",
            "0.8794244456386895\n",
            "0.8672528338430767\n"
          ]
        }
      ]
    },
    {
      "cell_type": "code",
      "source": [
        "error = 0\n",
        "pred = clf.predict(test)\n",
        "for i in range(len(test)):\n",
        "    error += (test[i][2] - pred[i])**2"
      ],
      "metadata": {
        "id": "Tb70q27JJgTS"
      },
      "execution_count": null,
      "outputs": []
    },
    {
      "cell_type": "code",
      "source": [
        "# MSE\n",
        "(error/ len(test))** (0.5)"
      ],
      "metadata": {
        "colab": {
          "base_uri": "https://localhost:8080/"
        },
        "id": "rToF7WVBJicy",
        "outputId": "a9d6a097-f8e2-4958-c3a9-3cb6412e2d6f"
      },
      "execution_count": null,
      "outputs": [
        {
          "output_type": "execute_result",
          "data": {
            "text/plain": [
              "0.9796998792776033"
            ]
          },
          "metadata": {},
          "execution_count": 130
        }
      ]
    }
  ]
}